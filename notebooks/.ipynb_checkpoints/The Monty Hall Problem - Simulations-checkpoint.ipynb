{
 "cells": [
  {
   "cell_type": "markdown",
   "metadata": {},
   "source": [
    "# Coding the Monty Hall Problem"
   ]
  },
  {
   "cell_type": "code",
   "execution_count": 1,
   "metadata": {},
   "outputs": [],
   "source": [
    "import numpy as np\n",
    "import pandas as pd\n",
    "import random\n",
    "import matplotlib.pyplot as plt\n",
    "from sklearn.linear_model import LinearRegression\n",
    "import scipy\n",
    "from IPython.display import IFrame"
   ]
  },
  {
   "cell_type": "markdown",
   "metadata": {},
   "source": [
    "On the drive to work this morning, I had 'shower thought'. \"how tricky would it be to code up a demonstration of the Monty Hall problem?\". It'd had been floating around my head since I re-watched a film called \"21\", which follows the exploits of the a group of gifted mathematics students, led by their professor, as they try to bleed Vegas Casino's dry, by counting cards. One scene used to display the main characters mathematical prowess features the Monty Hall problem. See below for details."
   ]
  },
  {
   "cell_type": "code",
   "execution_count": 2,
   "metadata": {},
   "outputs": [
    {
     "data": {
      "text/html": [
       "\n",
       "        <iframe\n",
       "            width=\"560\"\n",
       "            height=\"315\"\n",
       "            src=\"https://www.youtube.com/embed/iBdjqtR2iK4?start=71\"\n",
       "            frameborder=\"0\"\n",
       "            allowfullscreen\n",
       "        ></iframe>\n",
       "        "
      ],
      "text/plain": [
       "<IPython.lib.display.IFrame at 0x7f7dbe5241d0>"
      ]
     },
     "execution_count": 2,
     "metadata": {},
     "output_type": "execute_result"
    }
   ],
   "source": [
    "IFrame(width=\"560\", height=\"315\",\n",
    "       src=\"https://www.youtube.com/embed/iBdjqtR2iK4?start=71\")"
   ]
  },
  {
   "cell_type": "markdown",
   "metadata": {},
   "source": [
    "In summary, imagine you're on a game-show and there are 3 closed doors. Behind one door is a car (or other desirable item) and behind the other two doors are goats (or other not desirable item. You're asked to choose a door, but before you open it, the game show host opens another door which contains a goat, and then asks do you want to switch doors. The Monty Hall problem asks whether it's in your interest to switch doors after the location of one goat is revealed.\n",
    "\n",
    "Indeed, if you never switch your chance of success is 33.33%, however, initially counter-intuitively, if you change your position, your chance of success is 50%. Let's do some simulations.\n",
    "\n",
    "P.S. There's a lot of history surrounding this problem, and trying to explain it in a notebook wouldn't do it justice, Vox has a good [video](https://www.youtube.com/watch?v=ggDQXlinbME) on it, if your interested."
   ]
  },
  {
   "cell_type": "markdown",
   "metadata": {},
   "source": [
    "For the trivial case where a player picks a door at random and never changes their choice after being shown a goat, we expect a success probability of 0.33.\n",
    "\n",
    "We'll do 100,000 simulations per case."
   ]
  },
  {
   "cell_type": "code",
   "execution_count": 3,
   "metadata": {},
   "outputs": [],
   "source": [
    "# we will treat 1 as the car and 0 as a goat\n",
    "# these are the only 3 arrangements of the goats and cars\n",
    "arr1 = [0, 0, 1]\n",
    "arr2 = [1, 0, 0]\n",
    "arr3 = [0, 1, 0]"
   ]
  },
  {
   "cell_type": "code",
   "execution_count": 4,
   "metadata": {},
   "outputs": [],
   "source": [
    "check = 0\n",
    "results_player1 = []\n",
    "while check <= 100000:\n",
    "\n",
    "    # this is the arrangement of items behind doors for this iteration of the sim\n",
    "    this_arr = np.array(random.choice([arr1, arr2, arr3]))\n",
    "\n",
    "    # this is the choice the player has made\n",
    "    this_choice = random.choice([0, 1, 2])\n",
    "\n",
    "    # determine if the player wins or not\n",
    "    if this_arr[this_choice] == 1:\n",
    "        results_player1.append(True)\n",
    "    else:\n",
    "        results_player1.append(False)\n",
    "\n",
    "    # increment the counter by 1\n",
    "    check += 1"
   ]
  },
  {
   "cell_type": "code",
   "execution_count": 5,
   "metadata": {},
   "outputs": [
    {
     "data": {
      "text/plain": [
       "33.373000000000005"
      ]
     },
     "execution_count": 5,
     "metadata": {},
     "output_type": "execute_result"
    }
   ],
   "source": [
    "# what is the percentage of wins for the player who randomly chooses and never changes?\n",
    "player1_percen = np.sum(results_player1) / 100000*100\n",
    "player1_percen"
   ]
  },
  {
   "cell_type": "markdown",
   "metadata": {},
   "source": [
    "Looks good. What about the non-trivial case where the player always changes their choice after being shown a goat?"
   ]
  },
  {
   "cell_type": "code",
   "execution_count": 6,
   "metadata": {},
   "outputs": [],
   "source": [
    "check = 0\n",
    "results_player2 = []\n",
    "while check <= 100000:\n",
    "\n",
    "    # this is the arrangement of items behind doors for this iteration of the sim\n",
    "    this_arr = np.array(random.choice([arr1, arr2, arr3]))\n",
    "\n",
    "    # this is the choice the player has made\n",
    "    this_choice = random.choice([0, 1, 2])\n",
    "\n",
    "    # this is the index of the winning door\n",
    "    winning_ix = np.where(this_arr == 1)\n",
    "\n",
    "    # these are the indices of the goats\n",
    "    remaining_duds = list((set({0, 1, 2}) - {winning_ix[0][0]}))\n",
    "    \n",
    "    # this is the index of the revealed dud\n",
    "    revealed_dud = np.random.choice(remaining_duds)\n",
    "\n",
    "    # the final choice for this player becomes the door that wasn't picked\n",
    "    # initially and wasn't opened by the host\n",
    "    final_choice = list(set({0, 1, 2}) - {this_choice} - {revealed_dud})[0]\n",
    "\n",
    "    # determine if the player wins or not\n",
    "    if this_arr[final_choice] == 1:\n",
    "        results_player2.append(True)\n",
    "    else:\n",
    "        results_player2.append(False)\n",
    "\n",
    "    # increment the counter by 1\n",
    "    check += 1"
   ]
  },
  {
   "cell_type": "code",
   "execution_count": 7,
   "metadata": {},
   "outputs": [
    {
     "data": {
      "text/plain": [
       "49.945"
      ]
     },
     "execution_count": 7,
     "metadata": {},
     "output_type": "execute_result"
    }
   ],
   "source": [
    "# what is the percentage of wins for the player who always changes their mind?\n",
    "player2_percen = np.sum(results_player2) / 100000*100\n",
    "player2_percen"
   ]
  },
  {
   "cell_type": "markdown",
   "metadata": {},
   "source": [
    "Woop! Final case, what happens if after the reveal of a goat, our player decides to change door only 50% of the time. A priori, what do I expect the result to be? Somewhere between this first two results? So..."
   ]
  },
  {
   "cell_type": "code",
   "execution_count": 8,
   "metadata": {},
   "outputs": [
    {
     "data": {
      "text/plain": [
       "41.659000000000006"
      ]
     },
     "execution_count": 8,
     "metadata": {},
     "output_type": "execute_result"
    }
   ],
   "source": [
    "def midpoint(p1, p2):\n",
    "    return p1 + (p2-p1)/2     # or *0.5\n",
    "\n",
    "\n",
    "midpoint(player1_percen, player2_percen)"
   ]
  },
  {
   "cell_type": "markdown",
   "metadata": {},
   "source": [
    "But we know those values should be 33.33 and 50..."
   ]
  },
  {
   "cell_type": "code",
   "execution_count": 9,
   "metadata": {},
   "outputs": [
    {
     "data": {
      "text/plain": [
       "41.665"
      ]
     },
     "execution_count": 9,
     "metadata": {},
     "output_type": "execute_result"
    }
   ],
   "source": [
    "midpoint(33.33, 50)"
   ]
  },
  {
   "cell_type": "markdown",
   "metadata": {},
   "source": [
    "So, my guess is 41.665"
   ]
  },
  {
   "cell_type": "markdown",
   "metadata": {},
   "source": [
    "# Player 3"
   ]
  },
  {
   "cell_type": "markdown",
   "metadata": {},
   "source": [
    "Some thoughts about player 3\n",
    "\n",
    "This player is interesting and there's a couple ways to code them. We can have in the simplest case the player flipping a coin (i.e. choosing at random 0 or 1) and using that to push them down one of two paths. Or we could implement a parameter which is the frequency at which they change their mind (could also be stick to their choice, but I'm going with an affirmative action as changing doors.\n",
    "\n",
    "This gives us a question to solve, how do we want to implement the variability of the choice. This feel like a dice-based problem. Flipping a coin is just like rolling a 'two-sided dice'. If we want the player to change only 25% of the time, we assign them a four sided dice, 16.6% would be a six-sided die, etc. So, we're looking for a way of implementing an arbitrary system for scaling the 'die'.\n",
    "\n",
    "We could just say that if we're doing 100000 simulations and we want to see the result for 25% chance of changing door, then we can implement method 2 for the first 25000 simulations, and method 1 for the rest. But that doesn't feel like a good way to implement it. \n",
    "\n",
    "First on the list of things to do then is create a method of selecting one of two variables at an uneven distribution. Numpy has us covered here, but lets just run some simulations to make sure it's doing what we want."
   ]
  },
  {
   "cell_type": "code",
   "execution_count": 10,
   "metadata": {},
   "outputs": [
    {
     "data": {
      "text/plain": [
       "0.49735026497350265"
      ]
     },
     "execution_count": 10,
     "metadata": {},
     "output_type": "execute_result"
    }
   ],
   "source": [
    "change_mind_freq = 0.5\n",
    "check = 0\n",
    "counts = []\n",
    "while check <= 10000:\n",
    "    counts.append(np.random.choice(\n",
    "        [0, 1], 1, p=[1-change_mind_freq, change_mind_freq])[0])\n",
    "    check += 1\n",
    "\n",
    "np.sum(counts) / len(counts)"
   ]
  },
  {
   "cell_type": "code",
   "execution_count": 11,
   "metadata": {},
   "outputs": [
    {
     "data": {
      "text/plain": [
       "0.2947705229477052"
      ]
     },
     "execution_count": 11,
     "metadata": {},
     "output_type": "execute_result"
    }
   ],
   "source": [
    "change_mind_freq = 0.3\n",
    "check = 0\n",
    "counts = []\n",
    "while check <= 10000:\n",
    "    counts.append(np.random.choice(\n",
    "        [0, 1], 1, p=[1-change_mind_freq, change_mind_freq])[0])\n",
    "    check += 1\n",
    "\n",
    "np.sum(counts) / len(counts)"
   ]
  },
  {
   "cell_type": "code",
   "execution_count": 12,
   "metadata": {},
   "outputs": [
    {
     "data": {
      "text/plain": [
       "0.1014898510148985"
      ]
     },
     "execution_count": 12,
     "metadata": {},
     "output_type": "execute_result"
    }
   ],
   "source": [
    "change_mind_freq = 0.1\n",
    "check = 0\n",
    "counts = []\n",
    "while check <= 10000:\n",
    "    counts.append(np.random.choice(\n",
    "        [0, 1], 1, p=[1-change_mind_freq, change_mind_freq])[0])\n",
    "    check += 1\n",
    "\n",
    "np.sum(counts) / len(counts)"
   ]
  },
  {
   "cell_type": "markdown",
   "metadata": {},
   "source": [
    "Perfect! Now lets implement this into the game."
   ]
  },
  {
   "cell_type": "code",
   "execution_count": 13,
   "metadata": {},
   "outputs": [],
   "source": [
    "change_mind_freq = 0.5\n",
    "check = 0\n",
    "results_player3 = []\n",
    "while check <= 100000:\n",
    "\n",
    "    # if change_mind is one our player will change their mind\n",
    "    # if it's 0 they wont\n",
    "    change_mind = np.random.choice(\n",
    "        [0, 1], 1, p=[1-change_mind_freq, change_mind_freq])[0]\n",
    "\n",
    "    if change_mind == 0:\n",
    "\n",
    "        this_arr = np.array(random.choice([arr1, arr2, arr3]))\n",
    "\n",
    "        this_choice = random.choice([0, 1, 2])\n",
    "\n",
    "        if this_arr[this_choice] == 1:\n",
    "            results_player3.append(True)\n",
    "        else:\n",
    "            results_player3.append(False)\n",
    "\n",
    "        check += 1\n",
    "\n",
    "    if change_mind == 1:\n",
    "\n",
    "        this_arr = np.array(random.choice([arr1, arr2, arr3]))\n",
    "\n",
    "        this_choice = random.choice([0, 1, 2])\n",
    "\n",
    "        winning_ix = np.where(this_arr == 1)\n",
    "\n",
    "        remaining_duds = list((set({0, 1, 2}) - {winning_ix[0][0]}))\n",
    "\n",
    "        revealed_dud = np.random.choice(remaining_duds)\n",
    "\n",
    "        final_choice = list(set({0, 1, 2}) - {this_choice} - {revealed_dud})[0]\n",
    "\n",
    "        if this_arr[final_choice] == 1:\n",
    "            results_player3.append(True)\n",
    "        else:\n",
    "            results_player3.append(False)\n",
    "\n",
    "        check += 1"
   ]
  },
  {
   "cell_type": "code",
   "execution_count": 14,
   "metadata": {},
   "outputs": [
    {
     "data": {
      "text/plain": [
       "41.699999999999996"
      ]
     },
     "execution_count": 14,
     "metadata": {},
     "output_type": "execute_result"
    }
   ],
   "source": [
    "# what is the percentage of wins for the player who always changes their mind 50% of\n",
    "# the time?\n",
    "player3_percen = np.sum(results_player3) / 100000 * 100\n",
    "player3_percen"
   ]
  },
  {
   "cell_type": "markdown",
   "metadata": {},
   "source": [
    "Call it a lucky guess I suppose? What's interesting about this loop is that it makes the first two functions redundant, because we can set change_mind_freq to 0 in the first case where our player never changes their mind and 1 in the case where they always change their mind. Let's write it into a function then. "
   ]
  },
  {
   "cell_type": "code",
   "execution_count": 15,
   "metadata": {},
   "outputs": [],
   "source": [
    "def montyhall(nsim, change_mind_freq):\n",
    "    \"\"\"Run a simulation of the Monty Hall Problem with varying probabilities that\n",
    "    player will change their mind.\n",
    "\n",
    "    Parameters\n",
    "    ----------\n",
    "    nsim : int\n",
    "        The number of simulations to run.\n",
    "    change_mind_freq: int\n",
    "        The probability that the player will change their mind and choose the \n",
    "        alternate door. \n",
    "\n",
    "    Returns\n",
    "    ----------\n",
    "    percen_win : The percentage of games won by the player (wins/nsim)\n",
    "\n",
    "    Notes\n",
    "    ----------\n",
    "    If you want the player to always change their mind then set change_mind_freq to\n",
    "    1, the converse is true, if you want the player to never change their mind, set\n",
    "    change_mind_freq to 0.\"\"\"\n",
    "\n",
    "    # check the inputs\n",
    "    assert isinstance(nsim, int), \"nsim should be a positive integer > 0\"\n",
    "    assert nsim > 0, \"nsim needs to be a postive integer > 0\"\n",
    "    assert change_mind_freq >= 0 and change_mind_freq <= 1, \"change_mind_freq should be a value between >=0 and <=1\"\n",
    "\n",
    "    check = 0\n",
    "    results = []\n",
    "\n",
    "    arr1 = [0, 0, 1]\n",
    "    arr2 = [1, 0, 0]\n",
    "    arr3 = [0, 1, 0]\n",
    "\n",
    "    while check <= nsim:\n",
    "\n",
    "        change_mind = np.random.choice(\n",
    "            [0, 1], 1, p=[1-change_mind_freq, change_mind_freq])[0]\n",
    "\n",
    "        if change_mind == 0:\n",
    "\n",
    "            this_arr = np.array(random.choice([arr1, arr2, arr3]))\n",
    "\n",
    "            this_choice = random.choice([0, 1, 2])\n",
    "\n",
    "            if this_arr[this_choice] == 1:\n",
    "                results.append(True)\n",
    "            else:\n",
    "                results.append(False)\n",
    "\n",
    "            check += 1\n",
    "\n",
    "        if change_mind == 1:\n",
    "\n",
    "            this_arr = np.array(random.choice([arr1, arr2, arr3]))\n",
    "\n",
    "            this_choice = random.choice([0, 1, 2])\n",
    "\n",
    "            winning_ix = np.where(this_arr == 1)\n",
    "\n",
    "            remaining_duds = list((set({0, 1, 2}) - {winning_ix[0][0]}))\n",
    "\n",
    "            revealed_dud = np.random.choice(remaining_duds)\n",
    "\n",
    "            final_choice = list(\n",
    "                set({0, 1, 2}) - {this_choice} - {revealed_dud})[0]\n",
    "\n",
    "            if this_arr[final_choice] == 1:\n",
    "                results.append(True)\n",
    "            else:\n",
    "                results.append(False)\n",
    "\n",
    "            check += 1\n",
    "\n",
    "    percen_win = np.sum(results) / nsim*100\n",
    "\n",
    "    return percen_win"
   ]
  },
  {
   "cell_type": "code",
   "execution_count": 16,
   "metadata": {},
   "outputs": [
    {
     "data": {
      "text/plain": [
       "50.07899999999999"
      ]
     },
     "execution_count": 16,
     "metadata": {},
     "output_type": "execute_result"
    }
   ],
   "source": [
    "montyhall(100000, 1)"
   ]
  },
  {
   "cell_type": "code",
   "execution_count": 17,
   "metadata": {},
   "outputs": [
    {
     "data": {
      "text/plain": [
       "33.355000000000004"
      ]
     },
     "execution_count": 17,
     "metadata": {},
     "output_type": "execute_result"
    }
   ],
   "source": [
    "montyhall(100000, 0)"
   ]
  },
  {
   "cell_type": "code",
   "execution_count": 18,
   "metadata": {},
   "outputs": [
    {
     "data": {
      "text/plain": [
       "41.802"
      ]
     },
     "execution_count": 18,
     "metadata": {},
     "output_type": "execute_result"
    }
   ],
   "source": [
    "montyhall(100000, 0.5)"
   ]
  },
  {
   "cell_type": "markdown",
   "metadata": {},
   "source": [
    "Looking great. Now that we have it generalised it's fairly easy to plot the success over the changing probabilities."
   ]
  },
  {
   "cell_type": "code",
   "execution_count": 19,
   "metadata": {},
   "outputs": [],
   "source": [
    "# define a range of probabilities for the varying change_mind_freq arguement\n",
    "probs = np.linspace(0, 1, 50)"
   ]
  },
  {
   "cell_type": "code",
   "execution_count": 20,
   "metadata": {},
   "outputs": [],
   "source": [
    "# run 100,000 simulations for each probability value\n",
    "success = []\n",
    "for prob in probs:\n",
    "    success.append(montyhall(100000, prob))"
   ]
  },
  {
   "cell_type": "code",
   "execution_count": 21,
   "metadata": {},
   "outputs": [],
   "source": [
    "# helper function\n",
    "def abline(slope, intercept):\n",
    "    \"\"\"Plot a line from slope and intercept\"\"\"\n",
    "    axes = plt.gca()\n",
    "    x_vals = np.array(axes.get_xlim())\n",
    "    y_vals = intercept + slope * x_vals\n",
    "    plt.plot(x_vals, y_vals, '--', color='orange')"
   ]
  },
  {
   "cell_type": "code",
   "execution_count": 22,
   "metadata": {},
   "outputs": [
    {
     "data": {
      "image/png": "[encoded data removed]",
      "text/plain": [
       "<Figure size 864x576 with 1 Axes>"
      ]
     },
     "metadata": {
      "needs_background": "light"
     },
     "output_type": "display_data"
    }
   ],
   "source": [
    "# plot the results over changing change_mind_frequencies\n",
    "plt.figure(figsize=(12, 8))\n",
    "plt.plot(success, probs)\n",
    "plt.ylabel('Probability')\n",
    "plt.xlabel('Success Rate (%)')\n",
    "plt.show()"
   ]
  },
  {
   "cell_type": "markdown",
   "metadata": {},
   "source": [
    "...and finally, seeing as how we have a nice line, let's see what the function of that line is."
   ]
  },
  {
   "cell_type": "code",
   "execution_count": 23,
   "metadata": {},
   "outputs": [
    {
     "data": {
      "text/plain": [
       "'The model fitted with a slope of 0.05950140578677803, an intercept of -1.9793783580666426, with an R value of (p=0.9994339194610821)'"
      ]
     },
     "execution_count": 23,
     "metadata": {},
     "output_type": "execute_result"
    }
   ],
   "source": [
    "slope, intercept, rvalue, pvalue, stderr = scipy.stats.linregress(\n",
    "    success, probs)\n",
    "\n",
    "'The model fitted with a slope of {}, an intercept of {}, with an R value of (p={})'.format(\n",
    "    slope, intercept, rvalue, pvalue)"
   ]
  },
  {
   "cell_type": "markdown",
   "metadata": {},
   "source": [
    "Let's update that graph"
   ]
  },
  {
   "cell_type": "code",
   "execution_count": 24,
   "metadata": {},
   "outputs": [
    {
     "data": {
      "image/png": "[encoded data removed]",
      "text/plain": [
       "<Figure size 864x576 with 1 Axes>"
      ]
     },
     "metadata": {
      "needs_background": "light"
     },
     "output_type": "display_data"
    }
   ],
   "source": [
    "plt.figure(figsize=(12, 8))\n",
    "plt.plot(success, probs)\n",
    "plt.ylabel('Probability')\n",
    "plt.xlabel('Success Rate (%)')\n",
    "abline(slope, intercept)\n",
    "plt.title('Y = {}x + {}   R = {}'.format(slope, intercept, rvalue))\n",
    "plt.show()"
   ]
  },
  {
   "cell_type": "markdown",
   "metadata": {},
   "source": [
    "To estimate success rate of a given probability we can use x = (y - c) / m"
   ]
  },
  {
   "cell_type": "code",
   "execution_count": 25,
   "metadata": {},
   "outputs": [],
   "source": [
    "predicted = []\n",
    "for prob in probs:\n",
    "    predicted.append(((prob - intercept) / slope))"
   ]
  },
  {
   "cell_type": "code",
   "execution_count": 26,
   "metadata": {},
   "outputs": [],
   "source": [
    "master_results = pd.DataFrame(\n",
    "    {'success': success, 'predicted': predicted, 'probability': probs},\n",
    "    columns=['probability', 'predicted', 'success'])\n",
    "master_results['difference'] = master_results['predicted'] - \\\n",
    "    master_results['success']"
   ]
  },
  {
   "cell_type": "code",
   "execution_count": 27,
   "metadata": {},
   "outputs": [
    {
     "data": {
      "text/html": [
       "<div>\n",
       "<style scoped>\n",
       "    .dataframe tbody tr th:only-of-type {\n",
       "        vertical-align: middle;\n",
       "    }\n",
       "\n",
       "    .dataframe tbody tr th {\n",
       "        vertical-align: top;\n",
       "    }\n",
       "\n",
       "    .dataframe thead th {\n",
       "        text-align: right;\n",
       "    }\n",
       "</style>\n",
       "<table border=\"1\" class=\"dataframe\">\n",
       "  <thead>\n",
       "    <tr style=\"text-align: right;\">\n",
       "      <th></th>\n",
       "      <th>probability</th>\n",
       "      <th>predicted</th>\n",
       "      <th>success</th>\n",
       "      <th>difference</th>\n",
       "    </tr>\n",
       "  </thead>\n",
       "  <tbody>\n",
       "    <tr>\n",
       "      <th>0</th>\n",
       "      <td>0.000000</td>\n",
       "      <td>33.266077</td>\n",
       "      <td>33.046</td>\n",
       "      <td>0.220077</td>\n",
       "    </tr>\n",
       "    <tr>\n",
       "      <th>1</th>\n",
       "      <td>0.020408</td>\n",
       "      <td>33.609063</td>\n",
       "      <td>33.957</td>\n",
       "      <td>-0.347937</td>\n",
       "    </tr>\n",
       "    <tr>\n",
       "      <th>2</th>\n",
       "      <td>0.040816</td>\n",
       "      <td>33.952050</td>\n",
       "      <td>33.827</td>\n",
       "      <td>0.125050</td>\n",
       "    </tr>\n",
       "    <tr>\n",
       "      <th>3</th>\n",
       "      <td>0.061224</td>\n",
       "      <td>34.295036</td>\n",
       "      <td>34.324</td>\n",
       "      <td>-0.028964</td>\n",
       "    </tr>\n",
       "    <tr>\n",
       "      <th>4</th>\n",
       "      <td>0.081633</td>\n",
       "      <td>34.638022</td>\n",
       "      <td>34.423</td>\n",
       "      <td>0.215022</td>\n",
       "    </tr>\n",
       "    <tr>\n",
       "      <th>5</th>\n",
       "      <td>0.102041</td>\n",
       "      <td>34.981008</td>\n",
       "      <td>35.048</td>\n",
       "      <td>-0.066992</td>\n",
       "    </tr>\n",
       "    <tr>\n",
       "      <th>6</th>\n",
       "      <td>0.122449</td>\n",
       "      <td>35.323995</td>\n",
       "      <td>35.420</td>\n",
       "      <td>-0.096005</td>\n",
       "    </tr>\n",
       "    <tr>\n",
       "      <th>7</th>\n",
       "      <td>0.142857</td>\n",
       "      <td>35.666981</td>\n",
       "      <td>35.750</td>\n",
       "      <td>-0.083019</td>\n",
       "    </tr>\n",
       "    <tr>\n",
       "      <th>8</th>\n",
       "      <td>0.163265</td>\n",
       "      <td>36.009967</td>\n",
       "      <td>35.867</td>\n",
       "      <td>0.142967</td>\n",
       "    </tr>\n",
       "    <tr>\n",
       "      <th>9</th>\n",
       "      <td>0.183673</td>\n",
       "      <td>36.352953</td>\n",
       "      <td>36.391</td>\n",
       "      <td>-0.038047</td>\n",
       "    </tr>\n",
       "    <tr>\n",
       "      <th>10</th>\n",
       "      <td>0.204082</td>\n",
       "      <td>36.695940</td>\n",
       "      <td>36.803</td>\n",
       "      <td>-0.107060</td>\n",
       "    </tr>\n",
       "    <tr>\n",
       "      <th>11</th>\n",
       "      <td>0.224490</td>\n",
       "      <td>37.038926</td>\n",
       "      <td>36.887</td>\n",
       "      <td>0.151926</td>\n",
       "    </tr>\n",
       "    <tr>\n",
       "      <th>12</th>\n",
       "      <td>0.244898</td>\n",
       "      <td>37.381912</td>\n",
       "      <td>37.407</td>\n",
       "      <td>-0.025088</td>\n",
       "    </tr>\n",
       "    <tr>\n",
       "      <th>13</th>\n",
       "      <td>0.265306</td>\n",
       "      <td>37.724898</td>\n",
       "      <td>37.813</td>\n",
       "      <td>-0.088102</td>\n",
       "    </tr>\n",
       "    <tr>\n",
       "      <th>14</th>\n",
       "      <td>0.285714</td>\n",
       "      <td>38.067885</td>\n",
       "      <td>38.169</td>\n",
       "      <td>-0.101115</td>\n",
       "    </tr>\n",
       "    <tr>\n",
       "      <th>15</th>\n",
       "      <td>0.306122</td>\n",
       "      <td>38.410871</td>\n",
       "      <td>38.387</td>\n",
       "      <td>0.023871</td>\n",
       "    </tr>\n",
       "    <tr>\n",
       "      <th>16</th>\n",
       "      <td>0.326531</td>\n",
       "      <td>38.753857</td>\n",
       "      <td>38.998</td>\n",
       "      <td>-0.244143</td>\n",
       "    </tr>\n",
       "    <tr>\n",
       "      <th>17</th>\n",
       "      <td>0.346939</td>\n",
       "      <td>39.096843</td>\n",
       "      <td>39.010</td>\n",
       "      <td>0.086843</td>\n",
       "    </tr>\n",
       "    <tr>\n",
       "      <th>18</th>\n",
       "      <td>0.367347</td>\n",
       "      <td>39.439829</td>\n",
       "      <td>39.511</td>\n",
       "      <td>-0.071171</td>\n",
       "    </tr>\n",
       "    <tr>\n",
       "      <th>19</th>\n",
       "      <td>0.387755</td>\n",
       "      <td>39.782816</td>\n",
       "      <td>39.542</td>\n",
       "      <td>0.240816</td>\n",
       "    </tr>\n",
       "    <tr>\n",
       "      <th>20</th>\n",
       "      <td>0.408163</td>\n",
       "      <td>40.125802</td>\n",
       "      <td>40.172</td>\n",
       "      <td>-0.046198</td>\n",
       "    </tr>\n",
       "    <tr>\n",
       "      <th>21</th>\n",
       "      <td>0.428571</td>\n",
       "      <td>40.468788</td>\n",
       "      <td>40.687</td>\n",
       "      <td>-0.218212</td>\n",
       "    </tr>\n",
       "    <tr>\n",
       "      <th>22</th>\n",
       "      <td>0.448980</td>\n",
       "      <td>40.811774</td>\n",
       "      <td>40.950</td>\n",
       "      <td>-0.138226</td>\n",
       "    </tr>\n",
       "    <tr>\n",
       "      <th>23</th>\n",
       "      <td>0.469388</td>\n",
       "      <td>41.154761</td>\n",
       "      <td>41.096</td>\n",
       "      <td>0.058761</td>\n",
       "    </tr>\n",
       "    <tr>\n",
       "      <th>24</th>\n",
       "      <td>0.489796</td>\n",
       "      <td>41.497747</td>\n",
       "      <td>41.209</td>\n",
       "      <td>0.288747</td>\n",
       "    </tr>\n",
       "    <tr>\n",
       "      <th>25</th>\n",
       "      <td>0.510204</td>\n",
       "      <td>41.840733</td>\n",
       "      <td>42.158</td>\n",
       "      <td>-0.317267</td>\n",
       "    </tr>\n",
       "    <tr>\n",
       "      <th>26</th>\n",
       "      <td>0.530612</td>\n",
       "      <td>42.183719</td>\n",
       "      <td>42.469</td>\n",
       "      <td>-0.285281</td>\n",
       "    </tr>\n",
       "    <tr>\n",
       "      <th>27</th>\n",
       "      <td>0.551020</td>\n",
       "      <td>42.526706</td>\n",
       "      <td>42.441</td>\n",
       "      <td>0.085706</td>\n",
       "    </tr>\n",
       "    <tr>\n",
       "      <th>28</th>\n",
       "      <td>0.571429</td>\n",
       "      <td>42.869692</td>\n",
       "      <td>42.630</td>\n",
       "      <td>0.239692</td>\n",
       "    </tr>\n",
       "    <tr>\n",
       "      <th>29</th>\n",
       "      <td>0.591837</td>\n",
       "      <td>43.212678</td>\n",
       "      <td>42.971</td>\n",
       "      <td>0.241678</td>\n",
       "    </tr>\n",
       "    <tr>\n",
       "      <th>30</th>\n",
       "      <td>0.612245</td>\n",
       "      <td>43.555664</td>\n",
       "      <td>43.698</td>\n",
       "      <td>-0.142336</td>\n",
       "    </tr>\n",
       "    <tr>\n",
       "      <th>31</th>\n",
       "      <td>0.632653</td>\n",
       "      <td>43.898651</td>\n",
       "      <td>43.934</td>\n",
       "      <td>-0.035349</td>\n",
       "    </tr>\n",
       "    <tr>\n",
       "      <th>32</th>\n",
       "      <td>0.653061</td>\n",
       "      <td>44.241637</td>\n",
       "      <td>44.159</td>\n",
       "      <td>0.082637</td>\n",
       "    </tr>\n",
       "    <tr>\n",
       "      <th>33</th>\n",
       "      <td>0.673469</td>\n",
       "      <td>44.584623</td>\n",
       "      <td>44.382</td>\n",
       "      <td>0.202623</td>\n",
       "    </tr>\n",
       "    <tr>\n",
       "      <th>34</th>\n",
       "      <td>0.693878</td>\n",
       "      <td>44.927609</td>\n",
       "      <td>44.959</td>\n",
       "      <td>-0.031391</td>\n",
       "    </tr>\n",
       "    <tr>\n",
       "      <th>35</th>\n",
       "      <td>0.714286</td>\n",
       "      <td>45.270595</td>\n",
       "      <td>44.997</td>\n",
       "      <td>0.273595</td>\n",
       "    </tr>\n",
       "    <tr>\n",
       "      <th>36</th>\n",
       "      <td>0.734694</td>\n",
       "      <td>45.613582</td>\n",
       "      <td>45.482</td>\n",
       "      <td>0.131582</td>\n",
       "    </tr>\n",
       "    <tr>\n",
       "      <th>37</th>\n",
       "      <td>0.755102</td>\n",
       "      <td>45.956568</td>\n",
       "      <td>45.955</td>\n",
       "      <td>0.001568</td>\n",
       "    </tr>\n",
       "    <tr>\n",
       "      <th>38</th>\n",
       "      <td>0.775510</td>\n",
       "      <td>46.299554</td>\n",
       "      <td>46.296</td>\n",
       "      <td>0.003554</td>\n",
       "    </tr>\n",
       "    <tr>\n",
       "      <th>39</th>\n",
       "      <td>0.795918</td>\n",
       "      <td>46.642540</td>\n",
       "      <td>46.545</td>\n",
       "      <td>0.097540</td>\n",
       "    </tr>\n",
       "    <tr>\n",
       "      <th>40</th>\n",
       "      <td>0.816327</td>\n",
       "      <td>46.985527</td>\n",
       "      <td>46.868</td>\n",
       "      <td>0.117527</td>\n",
       "    </tr>\n",
       "    <tr>\n",
       "      <th>41</th>\n",
       "      <td>0.836735</td>\n",
       "      <td>47.328513</td>\n",
       "      <td>47.628</td>\n",
       "      <td>-0.299487</td>\n",
       "    </tr>\n",
       "    <tr>\n",
       "      <th>42</th>\n",
       "      <td>0.857143</td>\n",
       "      <td>47.671499</td>\n",
       "      <td>47.737</td>\n",
       "      <td>-0.065501</td>\n",
       "    </tr>\n",
       "    <tr>\n",
       "      <th>43</th>\n",
       "      <td>0.877551</td>\n",
       "      <td>48.014485</td>\n",
       "      <td>47.961</td>\n",
       "      <td>0.053485</td>\n",
       "    </tr>\n",
       "    <tr>\n",
       "      <th>44</th>\n",
       "      <td>0.897959</td>\n",
       "      <td>48.357472</td>\n",
       "      <td>48.762</td>\n",
       "      <td>-0.404528</td>\n",
       "    </tr>\n",
       "    <tr>\n",
       "      <th>45</th>\n",
       "      <td>0.918367</td>\n",
       "      <td>48.700458</td>\n",
       "      <td>48.686</td>\n",
       "      <td>0.014458</td>\n",
       "    </tr>\n",
       "    <tr>\n",
       "      <th>46</th>\n",
       "      <td>0.938776</td>\n",
       "      <td>49.043444</td>\n",
       "      <td>48.972</td>\n",
       "      <td>0.071444</td>\n",
       "    </tr>\n",
       "    <tr>\n",
       "      <th>47</th>\n",
       "      <td>0.959184</td>\n",
       "      <td>49.386430</td>\n",
       "      <td>49.346</td>\n",
       "      <td>0.040430</td>\n",
       "    </tr>\n",
       "    <tr>\n",
       "      <th>48</th>\n",
       "      <td>0.979592</td>\n",
       "      <td>49.729417</td>\n",
       "      <td>49.769</td>\n",
       "      <td>-0.039583</td>\n",
       "    </tr>\n",
       "    <tr>\n",
       "      <th>49</th>\n",
       "      <td>1.000000</td>\n",
       "      <td>50.072403</td>\n",
       "      <td>49.963</td>\n",
       "      <td>0.109403</td>\n",
       "    </tr>\n",
       "  </tbody>\n",
       "</table>\n",
       "</div>"
      ],
      "text/plain": [
       "    probability  predicted  success  difference\n",
       "0      0.000000  33.266077   33.046    0.220077\n",
       "1      0.020408  33.609063   33.957   -0.347937\n",
       "2      0.040816  33.952050   33.827    0.125050\n",
       "3      0.061224  34.295036   34.324   -0.028964\n",
       "4      0.081633  34.638022   34.423    0.215022\n",
       "5      0.102041  34.981008   35.048   -0.066992\n",
       "6      0.122449  35.323995   35.420   -0.096005\n",
       "7      0.142857  35.666981   35.750   -0.083019\n",
       "8      0.163265  36.009967   35.867    0.142967\n",
       "9      0.183673  36.352953   36.391   -0.038047\n",
       "10     0.204082  36.695940   36.803   -0.107060\n",
       "11     0.224490  37.038926   36.887    0.151926\n",
       "12     0.244898  37.381912   37.407   -0.025088\n",
       "13     0.265306  37.724898   37.813   -0.088102\n",
       "14     0.285714  38.067885   38.169   -0.101115\n",
       "15     0.306122  38.410871   38.387    0.023871\n",
       "16     0.326531  38.753857   38.998   -0.244143\n",
       "17     0.346939  39.096843   39.010    0.086843\n",
       "18     0.367347  39.439829   39.511   -0.071171\n",
       "19     0.387755  39.782816   39.542    0.240816\n",
       "20     0.408163  40.125802   40.172   -0.046198\n",
       "21     0.428571  40.468788   40.687   -0.218212\n",
       "22     0.448980  40.811774   40.950   -0.138226\n",
       "23     0.469388  41.154761   41.096    0.058761\n",
       "24     0.489796  41.497747   41.209    0.288747\n",
       "25     0.510204  41.840733   42.158   -0.317267\n",
       "26     0.530612  42.183719   42.469   -0.285281\n",
       "27     0.551020  42.526706   42.441    0.085706\n",
       "28     0.571429  42.869692   42.630    0.239692\n",
       "29     0.591837  43.212678   42.971    0.241678\n",
       "30     0.612245  43.555664   43.698   -0.142336\n",
       "31     0.632653  43.898651   43.934   -0.035349\n",
       "32     0.653061  44.241637   44.159    0.082637\n",
       "33     0.673469  44.584623   44.382    0.202623\n",
       "34     0.693878  44.927609   44.959   -0.031391\n",
       "35     0.714286  45.270595   44.997    0.273595\n",
       "36     0.734694  45.613582   45.482    0.131582\n",
       "37     0.755102  45.956568   45.955    0.001568\n",
       "38     0.775510  46.299554   46.296    0.003554\n",
       "39     0.795918  46.642540   46.545    0.097540\n",
       "40     0.816327  46.985527   46.868    0.117527\n",
       "41     0.836735  47.328513   47.628   -0.299487\n",
       "42     0.857143  47.671499   47.737   -0.065501\n",
       "43     0.877551  48.014485   47.961    0.053485\n",
       "44     0.897959  48.357472   48.762   -0.404528\n",
       "45     0.918367  48.700458   48.686    0.014458\n",
       "46     0.938776  49.043444   48.972    0.071444\n",
       "47     0.959184  49.386430   49.346    0.040430\n",
       "48     0.979592  49.729417   49.769   -0.039583\n",
       "49     1.000000  50.072403   49.963    0.109403"
      ]
     },
     "execution_count": 27,
     "metadata": {},
     "output_type": "execute_result"
    }
   ],
   "source": [
    "master_results"
   ]
  },
  {
   "cell_type": "markdown",
   "metadata": {},
   "source": [
    "An interesting coding problem to be sure, not as tricky as I initially imagined it would be. Hopefully this is interesting to someone. As always, criticism and discussion of the methods I've used to answer this problem are entirely welcome. Also, if you know of any other cool coding problems, feel free to send them my way.\n",
    "\n",
    "Happy Coding,\n",
    "\n",
    "Sean"
   ]
  }
 ],
 "metadata": {
  "kernelspec": {
   "display_name": "Python 3",
   "language": "python",
   "name": "python3"
  },
  "language_info": {
   "codemirror_mode": {
    "name": "ipython",
    "version": 3
   },
   "file_extension": ".py",
   "mimetype": "text/x-python",
   "name": "python",
   "nbconvert_exporter": "python",
   "pygments_lexer": "ipython3",
   "version": "3.6.8"
  }
 },
 "nbformat": 4,
 "nbformat_minor": 2
}
